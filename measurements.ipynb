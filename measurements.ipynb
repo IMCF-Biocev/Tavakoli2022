{
 "cells": [
  {
   "cell_type": "markdown",
   "metadata": {},
   "source": [
    "# Axon growth quantification"
   ]
  },
  {
   "cell_type": "code",
   "execution_count": 1,
   "metadata": {},
   "outputs": [
    {
     "name": "stderr",
     "output_type": "stream",
     "text": [
      "WARNING: DirectWrite: CreateFontFaceFromHDC() failed (Indicates an error in an input file such as a font file.) for QFontDef(Family=\"\", pointsize=12, pixelsize=16, styleHint=5, weight=50, stretch=100, hintingPreference=0) LOGFONT(\"MS Sans Serif\", lfWidth=0, lfHeight=-16) dpi=192\n"
     ]
    }
   ],
   "source": [
    "import napari\n",
    "import numpy as np\n",
    "import re\n",
    "from glob import glob\n",
    "import os\n",
    "from natsort import natsorted\n",
    "from collections import defaultdict\n",
    "import pandas as pd\n",
    "import matplotlib.pyplot as plt\n",
    "import seaborn as sns\n",
    "\n",
    "viewer = napari.Viewer() # open napari viewer"
   ]
  },
  {
   "cell_type": "markdown",
   "metadata": {},
   "source": [
    "Next cell will open the swc files from the folder and save them in the readable for Python format. Be sure to correctly specify the folder name! "
   ]
  },
  {
   "cell_type": "code",
   "execution_count": 2,
   "metadata": {},
   "outputs": [
    {
     "name": "stdout",
     "output_type": "stream",
     "text": [
      "Number of time points is 8\n"
     ]
    }
   ],
   "source": [
    "folder_name = 'axon_tracing'  # TO DO: here check if the folder name is correct, if not - change it. \n",
    "#if folder_name.len() < 1:\n",
    "        #folder_name = 'axon_tracing'\n",
    "\n",
    "files =  os.listdir(folder_name + '/') \n",
    "files = natsorted(files)\n",
    "\n",
    "axons = [] # the array that would keep information about axons, their coordinates. \n",
    "\n",
    "for file in enumerate(files):\n",
    "    # load parse the data\n",
    "    with open(folder_name + '/' + file[1], 'r') as f: # read swc as txt file\n",
    "        data = f.read()\n",
    "\n",
    "    lines = [line for line in data.split('\\n') if re.match(r\"^\\d+.*$\",line)] # split into lines and take only lines that start with a number\n",
    "    coords = [np.array(w.split('\\t')[2].split(' ')[:2], dtype=float) for w in lines if re.match(r\"^\\d+.*$\",w)]\n",
    "    axon = np.array(coords)\n",
    "    # axon = axon[:, [1, 0]]\n",
    "    axons.append(axon)\n",
    "\n",
    "print('Number of time points is', len(axons))"
   ]
  },
  {
   "cell_type": "markdown",
   "metadata": {},
   "source": [
    "Next cell would shift origins of axons from different time points to the one point. "
   ]
  },
  {
   "cell_type": "code",
   "execution_count": 3,
   "metadata": {},
   "outputs": [
    {
     "name": "stdout",
     "output_type": "stream",
     "text": [
      "Axons from different time points were shifted to the same origin\n"
     ]
    }
   ],
   "source": [
    "# shift the axons to the single origin\n",
    "origin = axons[0][0]\n",
    "shifted_axons = [axons[0]]\n",
    "\n",
    "# subtract the origin from each axon\n",
    "for i, axon in enumerate(axons):\n",
    "    if i == 0: continue\n",
    "    diff = axon[0] - origin\n",
    "    shifted_axon = np.array([coord - diff for coord in axon])\n",
    "    shifted_axons.append(shifted_axon)\n",
    "\n",
    "# move origin to 0\n",
    "shifted_axons = [axons - origin for axons in shifted_axons]\n",
    "    \n",
    "print('Axons from different time points were shifted to the same origin')"
   ]
  },
  {
   "cell_type": "markdown",
   "metadata": {},
   "source": [
    "Next cell will visualize all axons from different time points, each with unique color in the open Viewer."
   ]
  },
  {
   "cell_type": "code",
   "execution_count": 4,
   "metadata": {},
   "outputs": [],
   "source": [
    "# vizualize axons\n",
    "for i, axon in enumerate(shifted_axons):\n",
    "    # generate new color\n",
    "    color = np.random.rand(3)\n",
    "    viewer.add_shapes(axon, name=f'axon t ={i+1}', shape_type='path', ndim = 2, edge_width=1, edge_color=color, face_color=color)"
   ]
  },
  {
   "cell_type": "code",
   "execution_count": 5,
   "metadata": {},
   "outputs": [
    {
     "data": {
      "text/plain": [
       "<Points layer 'growth' at 0x215cac77a30>"
      ]
     },
     "execution_count": 5,
     "metadata": {},
     "output_type": "execute_result"
    }
   ],
   "source": [
    "# vizualize the growth\n",
    "growth = np.array( [axon[-1] for axon in shifted_axons])\n",
    "viewer.add_shapes(growth, name='growth path', shape_type='path', ndim = 2, edge_width=1, edge_color='green', face_color='green')\n",
    "viewer.add_points(growth, size=1, face_color='green')\n",
    "\n",
    "\n",
    "# save growth to csv\n",
    "#growth_df = pd.DataFrame(growth)\n",
    "#growth_df.to_csv('growth.csv')"
   ]
  },
  {
   "cell_type": "markdown",
   "metadata": {},
   "source": [
    "The below cell would compute the required parameters for each time point."
   ]
  },
  {
   "cell_type": "code",
   "execution_count": 7,
   "metadata": {},
   "outputs": [
    {
     "name": "stdout",
     "output_type": "stream",
     "text": [
      "time: 0 <class 'int'>\n",
      "last tip is [-12.011393  17.062913]\n",
      "axon growth at time 0 is 20.866637530901265\n",
      "speed of growth at time 0 is 0\n",
      "angle change at time 0 is 0\n",
      "time: 900 <class 'int'>\n",
      "last tip is [-16.61389   25.145346]\n",
      "axon growth at time 900 is 30.138177887719348\n",
      "speed of growth at time 900 is 0.010334450467361261\n",
      "angle change at time 900 is 174.51558169744104\n",
      "time: 1800 <class 'int'>\n",
      "last tip is [-20.318338  31.992962]\n",
      "axon growth at time 1800 is 37.89966327839455\n",
      "speed of growth at time 1800 is 0.008650467757863007\n",
      "angle change at time 1800 is 178.75354990227237\n",
      "time: 2700 <class 'int'>\n",
      "last tip is [-24.022786  35.136131]\n",
      "axon growth at time 2700 is 42.563387422184306\n",
      "speed of growth at time 2700 is 0.005398038778199397\n",
      "angle change at time 2700 is 158.72677059625053\n",
      "time: 3600 <class 'int'>\n",
      "last tip is [-30.084611  47.147525]\n",
      "axon growth at time 3600 is 55.92828383427249\n",
      "speed of growth at time 3600 is 0.014949268455360801\n",
      "angle change at time 3600 is 157.09294952460215\n",
      "time: 4500 <class 'int'>\n",
      "last tip is [-38.503812  55.229957]\n",
      "axon growth at time 4500 is 67.32675314281234\n",
      "speed of growth at time 4500 is 0.012967606959766845\n",
      "angle change at time 4500 is 160.60969764366456\n",
      "time: 5400 <class 'int'>\n",
      "last tip is [-48.157828  64.99623 ]\n",
      "axon growth at time 5400 is 80.89305478154775\n",
      "speed of growth at time 5400 is 0.015258274955439244\n",
      "angle change at time 5400 is 178.49966855067166\n",
      "time: 6300 <class 'int'>\n",
      "last tip is [-51.974533  69.261958]\n",
      "axon growth at time 6300 is 86.59428911055193\n",
      "speed of growth at time 6300 is 0.0063599511244151335\n",
      "angle change at time 6300 is 177.15136606143733\n"
     ]
    },
    {
     "ename": "PermissionError",
     "evalue": "[Errno 13] Permission denied: 'measurements.csv'",
     "output_type": "error",
     "traceback": [
      "\u001b[1;31m---------------------------------------------------------------------------\u001b[0m",
      "\u001b[1;31mPermissionError\u001b[0m                           Traceback (most recent call last)",
      "\u001b[1;32mc:\\Users\\User OA2\\Desktop\\data\\axon_tracing\\measurements.ipynb Cell 11\u001b[0m in \u001b[0;36m<cell line: 72>\u001b[1;34m()\u001b[0m\n\u001b[0;32m     <a href='vscode-notebook-cell:/c%3A/Users/User%20OA2/Desktop/data/axon_tracing/measurements.ipynb#X13sZmlsZQ%3D%3D?line=68'>69</a>\u001b[0m measurements[\u001b[39m'\u001b[39m\u001b[39mTotal speed during all time ($\u001b[39m\u001b[39m\\\u001b[39m\u001b[39mmu m / \u001b[39m\u001b[39m\\t\u001b[39;00m\u001b[39mext\u001b[39m\u001b[39m{sec}\u001b[39;00m\u001b[39m$)\u001b[39m\u001b[39m'\u001b[39m] \u001b[39m=\u001b[39m total_speed\n\u001b[0;32m     <a href='vscode-notebook-cell:/c%3A/Users/User%20OA2/Desktop/data/axon_tracing/measurements.ipynb#X13sZmlsZQ%3D%3D?line=69'>70</a>\u001b[0m measurements[\u001b[39m'\u001b[39m\u001b[39mTotal angle change (\u001b[39m\u001b[39m%\u001b[39m\u001b[39m)\u001b[39m\u001b[39m'\u001b[39m] \u001b[39m=\u001b[39m angle\n\u001b[1;32m---> <a href='vscode-notebook-cell:/c%3A/Users/User%20OA2/Desktop/data/axon_tracing/measurements.ipynb#X13sZmlsZQ%3D%3D?line=71'>72</a>\u001b[0m measurements\u001b[39m.\u001b[39;49mto_csv(\u001b[39m'\u001b[39;49m\u001b[39mmeasurements.csv\u001b[39;49m\u001b[39m'\u001b[39;49m)\n\u001b[0;32m     <a href='vscode-notebook-cell:/c%3A/Users/User%20OA2/Desktop/data/axon_tracing/measurements.ipynb#X13sZmlsZQ%3D%3D?line=72'>73</a>\u001b[0m measurements\n",
      "File \u001b[1;32mc:\\Users\\User OA2\\AppData\\Local\\Programs\\Python\\Python310\\lib\\site-packages\\pandas\\core\\generic.py:3551\u001b[0m, in \u001b[0;36mNDFrame.to_csv\u001b[1;34m(self, path_or_buf, sep, na_rep, float_format, columns, header, index, index_label, mode, encoding, compression, quoting, quotechar, line_terminator, chunksize, date_format, doublequote, escapechar, decimal, errors, storage_options)\u001b[0m\n\u001b[0;32m   3540\u001b[0m df \u001b[39m=\u001b[39m \u001b[39mself\u001b[39m \u001b[39mif\u001b[39;00m \u001b[39misinstance\u001b[39m(\u001b[39mself\u001b[39m, ABCDataFrame) \u001b[39melse\u001b[39;00m \u001b[39mself\u001b[39m\u001b[39m.\u001b[39mto_frame()\n\u001b[0;32m   3542\u001b[0m formatter \u001b[39m=\u001b[39m DataFrameFormatter(\n\u001b[0;32m   3543\u001b[0m     frame\u001b[39m=\u001b[39mdf,\n\u001b[0;32m   3544\u001b[0m     header\u001b[39m=\u001b[39mheader,\n\u001b[1;32m   (...)\u001b[0m\n\u001b[0;32m   3548\u001b[0m     decimal\u001b[39m=\u001b[39mdecimal,\n\u001b[0;32m   3549\u001b[0m )\n\u001b[1;32m-> 3551\u001b[0m \u001b[39mreturn\u001b[39;00m DataFrameRenderer(formatter)\u001b[39m.\u001b[39;49mto_csv(\n\u001b[0;32m   3552\u001b[0m     path_or_buf,\n\u001b[0;32m   3553\u001b[0m     line_terminator\u001b[39m=\u001b[39;49mline_terminator,\n\u001b[0;32m   3554\u001b[0m     sep\u001b[39m=\u001b[39;49msep,\n\u001b[0;32m   3555\u001b[0m     encoding\u001b[39m=\u001b[39;49mencoding,\n\u001b[0;32m   3556\u001b[0m     errors\u001b[39m=\u001b[39;49merrors,\n\u001b[0;32m   3557\u001b[0m     compression\u001b[39m=\u001b[39;49mcompression,\n\u001b[0;32m   3558\u001b[0m     quoting\u001b[39m=\u001b[39;49mquoting,\n\u001b[0;32m   3559\u001b[0m     columns\u001b[39m=\u001b[39;49mcolumns,\n\u001b[0;32m   3560\u001b[0m     index_label\u001b[39m=\u001b[39;49mindex_label,\n\u001b[0;32m   3561\u001b[0m     mode\u001b[39m=\u001b[39;49mmode,\n\u001b[0;32m   3562\u001b[0m     chunksize\u001b[39m=\u001b[39;49mchunksize,\n\u001b[0;32m   3563\u001b[0m     quotechar\u001b[39m=\u001b[39;49mquotechar,\n\u001b[0;32m   3564\u001b[0m     date_format\u001b[39m=\u001b[39;49mdate_format,\n\u001b[0;32m   3565\u001b[0m     doublequote\u001b[39m=\u001b[39;49mdoublequote,\n\u001b[0;32m   3566\u001b[0m     escapechar\u001b[39m=\u001b[39;49mescapechar,\n\u001b[0;32m   3567\u001b[0m     storage_options\u001b[39m=\u001b[39;49mstorage_options,\n\u001b[0;32m   3568\u001b[0m )\n",
      "File \u001b[1;32mc:\\Users\\User OA2\\AppData\\Local\\Programs\\Python\\Python310\\lib\\site-packages\\pandas\\io\\formats\\format.py:1180\u001b[0m, in \u001b[0;36mDataFrameRenderer.to_csv\u001b[1;34m(self, path_or_buf, encoding, sep, columns, index_label, mode, compression, quoting, quotechar, line_terminator, chunksize, date_format, doublequote, escapechar, errors, storage_options)\u001b[0m\n\u001b[0;32m   1159\u001b[0m     created_buffer \u001b[39m=\u001b[39m \u001b[39mFalse\u001b[39;00m\n\u001b[0;32m   1161\u001b[0m csv_formatter \u001b[39m=\u001b[39m CSVFormatter(\n\u001b[0;32m   1162\u001b[0m     path_or_buf\u001b[39m=\u001b[39mpath_or_buf,\n\u001b[0;32m   1163\u001b[0m     line_terminator\u001b[39m=\u001b[39mline_terminator,\n\u001b[1;32m   (...)\u001b[0m\n\u001b[0;32m   1178\u001b[0m     formatter\u001b[39m=\u001b[39m\u001b[39mself\u001b[39m\u001b[39m.\u001b[39mfmt,\n\u001b[0;32m   1179\u001b[0m )\n\u001b[1;32m-> 1180\u001b[0m csv_formatter\u001b[39m.\u001b[39;49msave()\n\u001b[0;32m   1182\u001b[0m \u001b[39mif\u001b[39;00m created_buffer:\n\u001b[0;32m   1183\u001b[0m     \u001b[39massert\u001b[39;00m \u001b[39misinstance\u001b[39m(path_or_buf, StringIO)\n",
      "File \u001b[1;32mc:\\Users\\User OA2\\AppData\\Local\\Programs\\Python\\Python310\\lib\\site-packages\\pandas\\io\\formats\\csvs.py:241\u001b[0m, in \u001b[0;36mCSVFormatter.save\u001b[1;34m(self)\u001b[0m\n\u001b[0;32m    237\u001b[0m \u001b[39m\"\"\"\u001b[39;00m\n\u001b[0;32m    238\u001b[0m \u001b[39mCreate the writer & save.\u001b[39;00m\n\u001b[0;32m    239\u001b[0m \u001b[39m\"\"\"\u001b[39;00m\n\u001b[0;32m    240\u001b[0m \u001b[39m# apply compression and byte/text conversion\u001b[39;00m\n\u001b[1;32m--> 241\u001b[0m \u001b[39mwith\u001b[39;00m get_handle(\n\u001b[0;32m    242\u001b[0m     \u001b[39mself\u001b[39;49m\u001b[39m.\u001b[39;49mfilepath_or_buffer,\n\u001b[0;32m    243\u001b[0m     \u001b[39mself\u001b[39;49m\u001b[39m.\u001b[39;49mmode,\n\u001b[0;32m    244\u001b[0m     encoding\u001b[39m=\u001b[39;49m\u001b[39mself\u001b[39;49m\u001b[39m.\u001b[39;49mencoding,\n\u001b[0;32m    245\u001b[0m     errors\u001b[39m=\u001b[39;49m\u001b[39mself\u001b[39;49m\u001b[39m.\u001b[39;49merrors,\n\u001b[0;32m    246\u001b[0m     compression\u001b[39m=\u001b[39;49m\u001b[39mself\u001b[39;49m\u001b[39m.\u001b[39;49mcompression,\n\u001b[0;32m    247\u001b[0m     storage_options\u001b[39m=\u001b[39;49m\u001b[39mself\u001b[39;49m\u001b[39m.\u001b[39;49mstorage_options,\n\u001b[0;32m    248\u001b[0m ) \u001b[39mas\u001b[39;00m handles:\n\u001b[0;32m    249\u001b[0m \n\u001b[0;32m    250\u001b[0m     \u001b[39m# Note: self.encoding is irrelevant here\u001b[39;00m\n\u001b[0;32m    251\u001b[0m     \u001b[39mself\u001b[39m\u001b[39m.\u001b[39mwriter \u001b[39m=\u001b[39m csvlib\u001b[39m.\u001b[39mwriter(\n\u001b[0;32m    252\u001b[0m         handles\u001b[39m.\u001b[39mhandle,\n\u001b[0;32m    253\u001b[0m         lineterminator\u001b[39m=\u001b[39m\u001b[39mself\u001b[39m\u001b[39m.\u001b[39mline_terminator,\n\u001b[1;32m   (...)\u001b[0m\n\u001b[0;32m    258\u001b[0m         quotechar\u001b[39m=\u001b[39m\u001b[39mself\u001b[39m\u001b[39m.\u001b[39mquotechar,\n\u001b[0;32m    259\u001b[0m     )\n\u001b[0;32m    261\u001b[0m     \u001b[39mself\u001b[39m\u001b[39m.\u001b[39m_save()\n",
      "File \u001b[1;32mc:\\Users\\User OA2\\AppData\\Local\\Programs\\Python\\Python310\\lib\\site-packages\\pandas\\io\\common.py:786\u001b[0m, in \u001b[0;36mget_handle\u001b[1;34m(path_or_buf, mode, encoding, compression, memory_map, is_text, errors, storage_options)\u001b[0m\n\u001b[0;32m    781\u001b[0m \u001b[39melif\u001b[39;00m \u001b[39misinstance\u001b[39m(handle, \u001b[39mstr\u001b[39m):\n\u001b[0;32m    782\u001b[0m     \u001b[39m# Check whether the filename is to be opened in binary mode.\u001b[39;00m\n\u001b[0;32m    783\u001b[0m     \u001b[39m# Binary mode does not support 'encoding' and 'newline'.\u001b[39;00m\n\u001b[0;32m    784\u001b[0m     \u001b[39mif\u001b[39;00m ioargs\u001b[39m.\u001b[39mencoding \u001b[39mand\u001b[39;00m \u001b[39m\"\u001b[39m\u001b[39mb\u001b[39m\u001b[39m\"\u001b[39m \u001b[39mnot\u001b[39;00m \u001b[39min\u001b[39;00m ioargs\u001b[39m.\u001b[39mmode:\n\u001b[0;32m    785\u001b[0m         \u001b[39m# Encoding\u001b[39;00m\n\u001b[1;32m--> 786\u001b[0m         handle \u001b[39m=\u001b[39m \u001b[39mopen\u001b[39;49m(\n\u001b[0;32m    787\u001b[0m             handle,\n\u001b[0;32m    788\u001b[0m             ioargs\u001b[39m.\u001b[39;49mmode,\n\u001b[0;32m    789\u001b[0m             encoding\u001b[39m=\u001b[39;49mioargs\u001b[39m.\u001b[39;49mencoding,\n\u001b[0;32m    790\u001b[0m             errors\u001b[39m=\u001b[39;49merrors,\n\u001b[0;32m    791\u001b[0m             newline\u001b[39m=\u001b[39;49m\u001b[39m\"\u001b[39;49m\u001b[39m\"\u001b[39;49m,\n\u001b[0;32m    792\u001b[0m         )\n\u001b[0;32m    793\u001b[0m     \u001b[39melse\u001b[39;00m:\n\u001b[0;32m    794\u001b[0m         \u001b[39m# Binary mode\u001b[39;00m\n\u001b[0;32m    795\u001b[0m         handle \u001b[39m=\u001b[39m \u001b[39mopen\u001b[39m(handle, ioargs\u001b[39m.\u001b[39mmode)\n",
      "\u001b[1;31mPermissionError\u001b[0m: [Errno 13] Permission denied: 'measurements.csv'"
     ]
    }
   ],
   "source": [
    "#output file name\n",
    "#outputfile = input('Enter the name of the output file: ')\n",
    "measurements = defaultdict(list) # set measurements dictionary\n",
    "\n",
    "origin = shifted_axons[0][0] # set origin\n",
    "prev_tip = origin\n",
    "\n",
    "for i, axon in enumerate(shifted_axons):\n",
    "    current_time = 900 * i\n",
    "    print('time:', current_time)\n",
    "    measurements['Time'].append(current_time) # add time to measurements\n",
    "\n",
    "    # add coords to measurements\n",
    "    print('last tip is', axon[-1])\n",
    "    measurements['Coordinate of the tip node'].append(axon[-1])\n",
    "\n",
    "    # compute the distance between first and last coord and add it to measurements\n",
    "    axon_length = np.linalg.norm(origin - axon[-1])\n",
    "    print('axon growth at time', current_time, 'is', axon_length)\n",
    "    measurements['Axon length ($\\mu m$)'].append(axon_length)\n",
    "\n",
    "    current_tip = axon[-1]\n",
    "    \n",
    "    if i == 0:\n",
    "        growth_dist = 0\n",
    "        speed = 0\n",
    "        angle = 0\n",
    "    else: \n",
    "        growth_dist = np.linalg.norm(current_tip - prev_tip)\n",
    "        speed = growth_dist / (current_time - prev_time)\n",
    "        \n",
    "        prev_prev_tip = shifted_axons[i - 2][-1] if i >= 2 else origin\n",
    "\n",
    "        x = prev_prev_tip - prev_tip\n",
    "        x = x / np.linalg.norm(x)\n",
    "\n",
    "        y = current_tip - prev_tip\n",
    "        y = y / np.linalg.norm(y)\n",
    "\n",
    "        angle = np.degrees(np.arccos(x @ y))\n",
    "\n",
    "    # add speed to measurements\n",
    "    print('speed of growth at time', current_time, 'is', speed)\n",
    "    measurements['Speed from $t_{i-1}$ to $t_{i}$ ($\\mu m / \\text{sec}$)'].append(speed)\n",
    "    measurements['Axon growth distance from $t_{i-1}$ to $t_{i}$ ($\\mu m$)'].append(growth_dist)\n",
    "    \n",
    "    \n",
    "    print('angle change at time', current_time, 'is', angle)\n",
    "    measurements['Angle change from $t_{i-1}$ to $t_{i}$ (%)'].append(angle)\n",
    "    \n",
    "    prev_tip = current_tip\n",
    "    prev_time = current_time\n",
    "\n",
    "\n",
    "total_growth = np.linalg.norm(axons[-1][-1] - axons[0][-1])\n",
    "total_speed = total_growth / current_time\n",
    "\n",
    "# compute total angle change\n",
    "x = shifted_axons[0][-1]\n",
    "x = x / np.linalg.norm(x)\n",
    "\n",
    "y = shifted_axons[-1][-1]\n",
    "y = y / np.linalg.norm(y)\n",
    "\n",
    "angle = np.degrees(np.arccos(x @ y))\n",
    "\n",
    "measurements = pd.DataFrame(measurements)\n",
    "measurements['Total growth during all time ($\\mu m$)'] = total_growth\n",
    "measurements['Total speed during all time ($\\mu m / \\text{sec}$)'] = total_speed\n",
    "measurements['Total angle change (%)'] = angle\n",
    "\n",
    "measurements.to_csv('measurements.csv')\n",
    "measurements"
   ]
  },
  {
   "cell_type": "markdown",
   "metadata": {},
   "source": [
    "Next cell is not compulsory and can be used to visualize the computed data."
   ]
  },
  {
   "cell_type": "code",
   "execution_count": 7,
   "metadata": {},
   "outputs": [
    {
     "data": {
      "text/plain": [
       "<AxesSubplot:xlabel='Time', ylabel='Axon length ($\\\\mu m$)'>"
      ]
     },
     "execution_count": 7,
     "metadata": {},
     "output_type": "execute_result"
    },
    {
     "data": {
      "image/png": "[encoded data removed]",
      "text/plain": [
       "<Figure size 432x288 with 1 Axes>"
      ]
     },
     "metadata": {
      "needs_background": "light"
     },
     "output_type": "display_data"
    }
   ],
   "source": [
    "# visualize the data\n",
    "sns.lineplot(data=measurements, x=\"Time\", y='Axon length ($\\mu m$)')"
   ]
  },
  {
   "cell_type": "code",
   "execution_count": 8,
   "metadata": {},
   "outputs": [
    {
     "data": {
      "text/plain": [
       "<AxesSubplot:xlabel='Time', ylabel='Speed from $t_{i-1}$ to $t_{i}$ ($\\\\mu m / \\text{sec}$)'>"
      ]
     },
     "execution_count": 8,
     "metadata": {},
     "output_type": "execute_result"
    },
    {
     "data": {
      "image/png": "[encoded data removed]",
      "text/plain": [
       "<Figure size 432x288 with 1 Axes>"
      ]
     },
     "metadata": {
      "needs_background": "light"
     },
     "output_type": "display_data"
    }
   ],
   "source": [
    "sns.lineplot(data=measurements, x=\"Time\", y='Speed from $t_{i-1}$ to $t_{i}$ ($\\mu m / \\text{sec}$)')"
   ]
  },
  {
   "cell_type": "code",
   "execution_count": 9,
   "metadata": {},
   "outputs": [
    {
     "data": {
      "text/plain": [
       "<AxesSubplot:xlabel='Time', ylabel='Axon growth distance from $t_{i-1}$ to $t_{i}$ ($\\\\mu m$)'>"
      ]
     },
     "execution_count": 9,
     "metadata": {},
     "output_type": "execute_result"
    },
    {
     "data": {
      "image/png": "[encoded data removed]",
      "text/plain": [
       "<Figure size 432x288 with 1 Axes>"
      ]
     },
     "metadata": {
      "needs_background": "light"
     },
     "output_type": "display_data"
    }
   ],
   "source": [
    "sns.lineplot(data=measurements, x=\"Time\", y='Axon growth distance from $t_{i-1}$ to $t_{i}$ ($\\mu m$)')"
   ]
  },
  {
   "cell_type": "code",
   "execution_count": 10,
   "metadata": {},
   "outputs": [
    {
     "data": {
      "text/plain": [
       "<AxesSubplot:xlabel='Time', ylabel='Angle change from $t_{i-1}$ to $t_{i}$ (%)'>"
      ]
     },
     "execution_count": 10,
     "metadata": {},
     "output_type": "execute_result"
    },
    {
     "data": {
      "image/png": "[encoded data removed]",
      "text/plain": [
       "<Figure size 432x288 with 1 Axes>"
      ]
     },
     "metadata": {
      "needs_background": "light"
     },
     "output_type": "display_data"
    }
   ],
   "source": [
    "sns.lineplot(data=measurements, x=\"Time\", y='Angle change from $t_{i-1}$ to $t_{i}$ (%)')"
   ]
  },
  {
   "cell_type": "code",
   "execution_count": null,
   "metadata": {},
   "outputs": [],
   "source": []
  }
 ],
 "metadata": {
  "kernelspec": {
   "display_name": "Python 3 (ipykernel)",
   "language": "python",
   "name": "python3"
  },
  "language_info": {
   "codemirror_mode": {
    "name": "ipython",
    "version": 3
   },
   "file_extension": ".py",
   "mimetype": "text/x-python",
   "name": "python",
   "nbconvert_exporter": "python",
   "pygments_lexer": "ipython3",
   "version": "3.10.6"
  },
  "vscode": {
   "interpreter": {
    "hash": "bdf10ec3fc4470535b1a509a22ef7b100a4fb87036287be16fdd68847a80aa09"
   }
  }
 },
 "nbformat": 4,
 "nbformat_minor": 2
}
